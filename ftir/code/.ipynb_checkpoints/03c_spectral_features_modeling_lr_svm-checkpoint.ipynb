{
 "cells": [
  {
   "cell_type": "markdown",
   "id": "241a44c4-c825-49a4-ba49-042acc0f9a58",
   "metadata": {},
   "source": [
    "# Import Libraries"
   ]
  },
  {
   "cell_type": "code",
   "execution_count": 212,
   "id": "e1d37350-8fee-4e60-a811-73edf0c1de3a",
   "metadata": {},
   "outputs": [],
   "source": [
    "import os\n",
    "import warnings\n",
    "\n",
    "import numpy as np\n",
    "import pandas as pd\n",
    "\n",
    "import matplotlib.pyplot as plt\n",
    "import seaborn as sns\n",
    "\n",
    "from sklearn.preprocessing import label_binarize\n",
    "\n",
    "from sklearn.model_selection import StratifiedKFold\n",
    "\n",
    "from sklearn.linear_model import LogisticRegression\n",
    "\n",
    "from sklearn.svm import LinearSVC\n",
    "\n",
    "from sklearn.metrics import roc_curve\n",
    "from sklearn.metrics import accuracy_score\n",
    "from sklearn.metrics import precision_score\n",
    "from sklearn.metrics import recall_score\n",
    "from sklearn.metrics import f1_score\n",
    "from sklearn.metrics import roc_auc_score\n",
    "from sklearn.metrics import average_precision_score\n",
    "\n",
    "from tqdm import tqdm"
   ]
  },
  {
   "cell_type": "code",
   "execution_count": 129,
   "id": "d775259b-5d41-4d69-ae77-7c1c690fbb72",
   "metadata": {},
   "outputs": [],
   "source": [
    "warnings.filterwarnings(\"ignore\")\n",
    "\n",
    "pd.set_option('display.max_columns', 50)"
   ]
  },
  {
   "cell_type": "code",
   "execution_count": 130,
   "id": "fe9a5828-a2d7-4e19-a488-ad92e96e3ce2",
   "metadata": {},
   "outputs": [],
   "source": [
    "path_to_save = './../results/spectral_features_modeling'"
   ]
  },
  {
   "cell_type": "markdown",
   "id": "c0e66d43-d74e-40b5-b997-0c64571819a7",
   "metadata": {},
   "source": [
    "# Loading data & preprocessing"
   ]
  },
  {
   "cell_type": "markdown",
   "id": "0b03ecfc-e2ec-40a1-99f2-ee79122b700f",
   "metadata": {},
   "source": [
    "## Train data"
   ]
  },
  {
   "cell_type": "code",
   "execution_count": 131,
   "id": "1a50f11a-79a3-4910-a362-973ffa8ad127",
   "metadata": {},
   "outputs": [],
   "source": [
    "path_to_ftir_train_data = './../data/processed_data/ftir_engineered_features_train.csv'"
   ]
  },
  {
   "cell_type": "code",
   "execution_count": 132,
   "id": "b1bdc251-b945-4256-bb7f-9410bb5cff61",
   "metadata": {
    "scrolled": true
   },
   "outputs": [
    {
     "name": "stdout",
     "output_type": "stream",
     "text": [
      "(25, 81)\n"
     ]
    },
    {
     "data": {
      "text/html": [
       "<div>\n",
       "<style scoped>\n",
       "    .dataframe tbody tr th:only-of-type {\n",
       "        vertical-align: middle;\n",
       "    }\n",
       "\n",
       "    .dataframe tbody tr th {\n",
       "        vertical-align: top;\n",
       "    }\n",
       "\n",
       "    .dataframe thead th {\n",
       "        text-align: right;\n",
       "    }\n",
       "</style>\n",
       "<table border=\"1\" class=\"dataframe\">\n",
       "  <thead>\n",
       "    <tr style=\"text-align: right;\">\n",
       "      <th></th>\n",
       "      <th>$(ΣI)_{n}$</th>\n",
       "      <th>$(ΣS)_{n}$</th>\n",
       "      <th>$I_{1619, n}$</th>\n",
       "      <th>$S_{1619, n}$</th>\n",
       "      <th>$I_{1720, n}$</th>\n",
       "      <th>$S_{1720, n}$</th>\n",
       "      <th>$(\\frac{ΣI}{ΣS})_{n}$</th>\n",
       "      <th>$(\\frac{ΣI}{I_{1619}})_{n}$</th>\n",
       "      <th>$(\\frac{ΣI}{S_{1619}})_{n}$</th>\n",
       "      <th>$(\\frac{ΣI}{I_{1720}})_{n}$</th>\n",
       "      <th>$(\\frac{ΣI}{S_{1720}})_{n}$</th>\n",
       "      <th>$(\\frac{ΣS}{I_{1619}})_{n}$</th>\n",
       "      <th>$(\\frac{ΣS}{S_{1619}})_{n}$</th>\n",
       "      <th>$(\\frac{ΣS}{I_{1720}})_{n}$</th>\n",
       "      <th>$(\\frac{ΣS}{S_{1720}})_{n}$</th>\n",
       "      <th>$(\\frac{I_{1619}}{S_{1619}})_{n}$</th>\n",
       "      <th>$(\\frac{I_{1619}}{I_{1720}})_{n}$</th>\n",
       "      <th>$(\\frac{I_{1619}}{S_{1720}})_{n}$</th>\n",
       "      <th>$(\\frac{S_{1619}}{I_{1720}})_{n}$</th>\n",
       "      <th>$(\\frac{S_{1619}}{S_{1720}})_{n}$</th>\n",
       "      <th>$(\\frac{I_{1720}}{S_{1720}})_{n}$</th>\n",
       "      <th>$(ΣI^{-1})_{n}$</th>\n",
       "      <th>$(ΣI^2)_{n}$</th>\n",
       "      <th>$(ΣI^{-2})_{n}$</th>\n",
       "      <th>$(ΣI^3)_{n}$</th>\n",
       "      <th>...</th>\n",
       "      <th>$(S_{1619}^{-5})_{n}$</th>\n",
       "      <th>$(I_{1720}^{-1})_{n}$</th>\n",
       "      <th>$(I_{1720}^2)_{n}$</th>\n",
       "      <th>$(I_{1720}^{-2})_{n}$</th>\n",
       "      <th>$(I_{1720}^3)_{n}$</th>\n",
       "      <th>$(I_{1720}^{-3})_{n}$</th>\n",
       "      <th>$(I_{1720}^4)_{n}$</th>\n",
       "      <th>$(I_{1720}^{-4})_{n}$</th>\n",
       "      <th>$(I_{1720}^5)_{n}$</th>\n",
       "      <th>$(I_{1720}^{-5})_{n}$</th>\n",
       "      <th>$(S_{1720}^{-1})_{n}$</th>\n",
       "      <th>$(S_{1720}^2)_{n}$</th>\n",
       "      <th>$(S_{1720}^{-2})_{n}$</th>\n",
       "      <th>$(S_{1720}^3)_{n}$</th>\n",
       "      <th>$(S_{1720}^{-3})_{n}$</th>\n",
       "      <th>$(S_{1720}^4)_{n}$</th>\n",
       "      <th>$(S_{1720}^{-4})_{n}$</th>\n",
       "      <th>$(S_{1720}^5)_{n}$</th>\n",
       "      <th>$(S_{1720}^{-5})_{n}$</th>\n",
       "      <th>$(ln|ΣI|)_{n}$</th>\n",
       "      <th>$(ln|ΣS|)_{n}$</th>\n",
       "      <th>$(ln|I_{1619}|)_{n}$</th>\n",
       "      <th>$(ln|S_{1619}|)_{n}$</th>\n",
       "      <th>$(ln|I_{1720}|)_{n}$</th>\n",
       "      <th>$(ln|S_{1720}|)_{n}$</th>\n",
       "    </tr>\n",
       "  </thead>\n",
       "  <tbody>\n",
       "    <tr>\n",
       "      <th>1</th>\n",
       "      <td>2.9151</td>\n",
       "      <td>120.871839</td>\n",
       "      <td>0.619070</td>\n",
       "      <td>3.720943</td>\n",
       "      <td>0.664008</td>\n",
       "      <td>30.809158</td>\n",
       "      <td>0.024117</td>\n",
       "      <td>4.708838</td>\n",
       "      <td>0.783430</td>\n",
       "      <td>4.390159</td>\n",
       "      <td>0.094618</td>\n",
       "      <td>195.247462</td>\n",
       "      <td>32.484193</td>\n",
       "      <td>182.033770</td>\n",
       "      <td>3.923244</td>\n",
       "      <td>0.166374</td>\n",
       "      <td>0.932323</td>\n",
       "      <td>0.020094</td>\n",
       "      <td>5.603765</td>\n",
       "      <td>0.120774</td>\n",
       "      <td>0.021552</td>\n",
       "      <td>0.343041</td>\n",
       "      <td>8.497808</td>\n",
       "      <td>0.117677</td>\n",
       "      <td>24.771960</td>\n",
       "      <td>...</td>\n",
       "      <td>0.001402</td>\n",
       "      <td>1.506006</td>\n",
       "      <td>0.440906</td>\n",
       "      <td>2.268055</td>\n",
       "      <td>0.292765</td>\n",
       "      <td>3.415706</td>\n",
       "      <td>0.194398</td>\n",
       "      <td>5.144075</td>\n",
       "      <td>0.129082</td>\n",
       "      <td>7.747011</td>\n",
       "      <td>0.032458</td>\n",
       "      <td>949.204210</td>\n",
       "      <td>0.001054</td>\n",
       "      <td>29244.182358</td>\n",
       "      <td>0.000034</td>\n",
       "      <td>900988.631502</td>\n",
       "      <td>0.000001</td>\n",
       "      <td>2.775870e+07</td>\n",
       "      <td>3.602474e-08</td>\n",
       "      <td>1.069904</td>\n",
       "      <td>4.794731</td>\n",
       "      <td>-0.479537</td>\n",
       "      <td>1.313977</td>\n",
       "      <td>-0.409461</td>\n",
       "      <td>3.427812</td>\n",
       "    </tr>\n",
       "    <tr>\n",
       "      <th>2</th>\n",
       "      <td>3.9398</td>\n",
       "      <td>91.038462</td>\n",
       "      <td>0.670413</td>\n",
       "      <td>12.073326</td>\n",
       "      <td>0.481810</td>\n",
       "      <td>0.972930</td>\n",
       "      <td>0.043276</td>\n",
       "      <td>5.876673</td>\n",
       "      <td>0.326323</td>\n",
       "      <td>8.177088</td>\n",
       "      <td>4.049420</td>\n",
       "      <td>135.794536</td>\n",
       "      <td>7.540462</td>\n",
       "      <td>188.951098</td>\n",
       "      <td>93.571485</td>\n",
       "      <td>0.055528</td>\n",
       "      <td>1.391448</td>\n",
       "      <td>0.689067</td>\n",
       "      <td>25.058291</td>\n",
       "      <td>12.409251</td>\n",
       "      <td>0.495215</td>\n",
       "      <td>0.253820</td>\n",
       "      <td>15.522024</td>\n",
       "      <td>0.064425</td>\n",
       "      <td>61.153670</td>\n",
       "      <td>...</td>\n",
       "      <td>0.000004</td>\n",
       "      <td>2.075508</td>\n",
       "      <td>0.232141</td>\n",
       "      <td>4.307735</td>\n",
       "      <td>0.111848</td>\n",
       "      <td>8.940741</td>\n",
       "      <td>0.053889</td>\n",
       "      <td>18.556584</td>\n",
       "      <td>0.025964</td>\n",
       "      <td>38.514347</td>\n",
       "      <td>1.027824</td>\n",
       "      <td>0.946592</td>\n",
       "      <td>1.056421</td>\n",
       "      <td>0.920967</td>\n",
       "      <td>1.085815</td>\n",
       "      <td>0.896036</td>\n",
       "      <td>1.116026</td>\n",
       "      <td>8.717801e-01</td>\n",
       "      <td>1.147078e+00</td>\n",
       "      <td>1.371130</td>\n",
       "      <td>4.511282</td>\n",
       "      <td>-0.399861</td>\n",
       "      <td>2.490999</td>\n",
       "      <td>-0.730206</td>\n",
       "      <td>-0.027444</td>\n",
       "    </tr>\n",
       "    <tr>\n",
       "      <th>3</th>\n",
       "      <td>2.8628</td>\n",
       "      <td>85.811635</td>\n",
       "      <td>0.380586</td>\n",
       "      <td>8.608846</td>\n",
       "      <td>0.355102</td>\n",
       "      <td>4.681582</td>\n",
       "      <td>0.033361</td>\n",
       "      <td>7.522086</td>\n",
       "      <td>0.332542</td>\n",
       "      <td>8.061920</td>\n",
       "      <td>0.611503</td>\n",
       "      <td>225.472431</td>\n",
       "      <td>9.967844</td>\n",
       "      <td>241.653809</td>\n",
       "      <td>18.329623</td>\n",
       "      <td>0.044209</td>\n",
       "      <td>1.071767</td>\n",
       "      <td>0.081294</td>\n",
       "      <td>24.243337</td>\n",
       "      <td>1.838875</td>\n",
       "      <td>0.075851</td>\n",
       "      <td>0.349308</td>\n",
       "      <td>8.195624</td>\n",
       "      <td>0.122016</td>\n",
       "      <td>23.462432</td>\n",
       "      <td>...</td>\n",
       "      <td>0.000021</td>\n",
       "      <td>2.816096</td>\n",
       "      <td>0.126097</td>\n",
       "      <td>7.930397</td>\n",
       "      <td>0.044777</td>\n",
       "      <td>22.332761</td>\n",
       "      <td>0.015900</td>\n",
       "      <td>62.891200</td>\n",
       "      <td>0.005646</td>\n",
       "      <td>177.107662</td>\n",
       "      <td>0.213603</td>\n",
       "      <td>21.917211</td>\n",
       "      <td>0.045626</td>\n",
       "      <td>102.607222</td>\n",
       "      <td>0.009746</td>\n",
       "      <td>480.364133</td>\n",
       "      <td>0.002082</td>\n",
       "      <td>2.248864e+03</td>\n",
       "      <td>4.446689e-04</td>\n",
       "      <td>1.051800</td>\n",
       "      <td>4.452155</td>\n",
       "      <td>-0.966043</td>\n",
       "      <td>2.152790</td>\n",
       "      <td>-1.035352</td>\n",
       "      <td>1.543636</td>\n",
       "    </tr>\n",
       "  </tbody>\n",
       "</table>\n",
       "<p>3 rows × 81 columns</p>\n",
       "</div>"
      ],
      "text/plain": [
       "   $(ΣI)_{n}$  $(ΣS)_{n}$  $I_{1619, n}$  $S_{1619, n}$  $I_{1720, n}$  \\\n",
       "1      2.9151  120.871839       0.619070       3.720943       0.664008   \n",
       "2      3.9398   91.038462       0.670413      12.073326       0.481810   \n",
       "3      2.8628   85.811635       0.380586       8.608846       0.355102   \n",
       "\n",
       "   $S_{1720, n}$  $(\\frac{ΣI}{ΣS})_{n}$  $(\\frac{ΣI}{I_{1619}})_{n}$  \\\n",
       "1      30.809158               0.024117                     4.708838   \n",
       "2       0.972930               0.043276                     5.876673   \n",
       "3       4.681582               0.033361                     7.522086   \n",
       "\n",
       "   $(\\frac{ΣI}{S_{1619}})_{n}$  $(\\frac{ΣI}{I_{1720}})_{n}$  \\\n",
       "1                     0.783430                     4.390159   \n",
       "2                     0.326323                     8.177088   \n",
       "3                     0.332542                     8.061920   \n",
       "\n",
       "   $(\\frac{ΣI}{S_{1720}})_{n}$  $(\\frac{ΣS}{I_{1619}})_{n}$  \\\n",
       "1                     0.094618                   195.247462   \n",
       "2                     4.049420                   135.794536   \n",
       "3                     0.611503                   225.472431   \n",
       "\n",
       "   $(\\frac{ΣS}{S_{1619}})_{n}$  $(\\frac{ΣS}{I_{1720}})_{n}$  \\\n",
       "1                    32.484193                   182.033770   \n",
       "2                     7.540462                   188.951098   \n",
       "3                     9.967844                   241.653809   \n",
       "\n",
       "   $(\\frac{ΣS}{S_{1720}})_{n}$  $(\\frac{I_{1619}}{S_{1619}})_{n}$  \\\n",
       "1                     3.923244                           0.166374   \n",
       "2                    93.571485                           0.055528   \n",
       "3                    18.329623                           0.044209   \n",
       "\n",
       "   $(\\frac{I_{1619}}{I_{1720}})_{n}$  $(\\frac{I_{1619}}{S_{1720}})_{n}$  \\\n",
       "1                           0.932323                           0.020094   \n",
       "2                           1.391448                           0.689067   \n",
       "3                           1.071767                           0.081294   \n",
       "\n",
       "   $(\\frac{S_{1619}}{I_{1720}})_{n}$  $(\\frac{S_{1619}}{S_{1720}})_{n}$  \\\n",
       "1                           5.603765                           0.120774   \n",
       "2                          25.058291                          12.409251   \n",
       "3                          24.243337                           1.838875   \n",
       "\n",
       "   $(\\frac{I_{1720}}{S_{1720}})_{n}$  $(ΣI^{-1})_{n}$  $(ΣI^2)_{n}$  \\\n",
       "1                           0.021552         0.343041      8.497808   \n",
       "2                           0.495215         0.253820     15.522024   \n",
       "3                           0.075851         0.349308      8.195624   \n",
       "\n",
       "   $(ΣI^{-2})_{n}$  $(ΣI^3)_{n}$  ...  $(S_{1619}^{-5})_{n}$  \\\n",
       "1         0.117677     24.771960  ...               0.001402   \n",
       "2         0.064425     61.153670  ...               0.000004   \n",
       "3         0.122016     23.462432  ...               0.000021   \n",
       "\n",
       "   $(I_{1720}^{-1})_{n}$  $(I_{1720}^2)_{n}$  $(I_{1720}^{-2})_{n}$  \\\n",
       "1               1.506006            0.440906               2.268055   \n",
       "2               2.075508            0.232141               4.307735   \n",
       "3               2.816096            0.126097               7.930397   \n",
       "\n",
       "   $(I_{1720}^3)_{n}$  $(I_{1720}^{-3})_{n}$  $(I_{1720}^4)_{n}$  \\\n",
       "1            0.292765               3.415706            0.194398   \n",
       "2            0.111848               8.940741            0.053889   \n",
       "3            0.044777              22.332761            0.015900   \n",
       "\n",
       "   $(I_{1720}^{-4})_{n}$  $(I_{1720}^5)_{n}$  $(I_{1720}^{-5})_{n}$  \\\n",
       "1               5.144075            0.129082               7.747011   \n",
       "2              18.556584            0.025964              38.514347   \n",
       "3              62.891200            0.005646             177.107662   \n",
       "\n",
       "   $(S_{1720}^{-1})_{n}$  $(S_{1720}^2)_{n}$  $(S_{1720}^{-2})_{n}$  \\\n",
       "1               0.032458          949.204210               0.001054   \n",
       "2               1.027824            0.946592               1.056421   \n",
       "3               0.213603           21.917211               0.045626   \n",
       "\n",
       "   $(S_{1720}^3)_{n}$  $(S_{1720}^{-3})_{n}$  $(S_{1720}^4)_{n}$  \\\n",
       "1        29244.182358               0.000034       900988.631502   \n",
       "2            0.920967               1.085815            0.896036   \n",
       "3          102.607222               0.009746          480.364133   \n",
       "\n",
       "   $(S_{1720}^{-4})_{n}$  $(S_{1720}^5)_{n}$  $(S_{1720}^{-5})_{n}$  \\\n",
       "1               0.000001        2.775870e+07           3.602474e-08   \n",
       "2               1.116026        8.717801e-01           1.147078e+00   \n",
       "3               0.002082        2.248864e+03           4.446689e-04   \n",
       "\n",
       "   $(ln|ΣI|)_{n}$  $(ln|ΣS|)_{n}$  $(ln|I_{1619}|)_{n}$  $(ln|S_{1619}|)_{n}$  \\\n",
       "1        1.069904        4.794731             -0.479537              1.313977   \n",
       "2        1.371130        4.511282             -0.399861              2.490999   \n",
       "3        1.051800        4.452155             -0.966043              2.152790   \n",
       "\n",
       "   $(ln|I_{1720}|)_{n}$  $(ln|S_{1720}|)_{n}$  \n",
       "1             -0.409461              3.427812  \n",
       "2             -0.730206             -0.027444  \n",
       "3             -1.035352              1.543636  \n",
       "\n",
       "[3 rows x 81 columns]"
      ]
     },
     "execution_count": 132,
     "metadata": {},
     "output_type": "execute_result"
    }
   ],
   "source": [
    "data_train = pd.read_csv(path_to_ftir_train_data, index_col=0)\n",
    "\n",
    "# data_train.index = data.index.astype(str)\n",
    "\n",
    "print(data_train.shape)\n",
    "data_train.head(3)"
   ]
  },
  {
   "cell_type": "markdown",
   "id": "ee4590fa-3795-457f-980a-794a4eb55e50",
   "metadata": {},
   "source": [
    "## Test data"
   ]
  },
  {
   "cell_type": "code",
   "execution_count": 133,
   "id": "3e065dc2-f2f9-49df-879a-043d9aa42549",
   "metadata": {},
   "outputs": [],
   "source": [
    "path_to_ftir_test_data = './../data/processed_data/ftir_engineered_features_test.csv'"
   ]
  },
  {
   "cell_type": "code",
   "execution_count": 134,
   "id": "8e166d1e-0f6b-4b01-a879-63ec6c461571",
   "metadata": {
    "scrolled": true
   },
   "outputs": [
    {
     "name": "stdout",
     "output_type": "stream",
     "text": [
      "(4, 81)\n"
     ]
    },
    {
     "data": {
      "text/html": [
       "<div>\n",
       "<style scoped>\n",
       "    .dataframe tbody tr th:only-of-type {\n",
       "        vertical-align: middle;\n",
       "    }\n",
       "\n",
       "    .dataframe tbody tr th {\n",
       "        vertical-align: top;\n",
       "    }\n",
       "\n",
       "    .dataframe thead th {\n",
       "        text-align: right;\n",
       "    }\n",
       "</style>\n",
       "<table border=\"1\" class=\"dataframe\">\n",
       "  <thead>\n",
       "    <tr style=\"text-align: right;\">\n",
       "      <th></th>\n",
       "      <th>$(ΣI)_{n}$</th>\n",
       "      <th>$(ΣS)_{n}$</th>\n",
       "      <th>$I_{1619, n}$</th>\n",
       "      <th>$S_{1619, n}$</th>\n",
       "      <th>$I_{1720, n}$</th>\n",
       "      <th>$S_{1720, n}$</th>\n",
       "      <th>$(\\frac{ΣI}{ΣS})_{n}$</th>\n",
       "      <th>$(\\frac{ΣI}{I_{1619}})_{n}$</th>\n",
       "      <th>$(\\frac{ΣI}{S_{1619}})_{n}$</th>\n",
       "      <th>$(\\frac{ΣI}{I_{1720}})_{n}$</th>\n",
       "      <th>$(\\frac{ΣI}{S_{1720}})_{n}$</th>\n",
       "      <th>$(\\frac{ΣS}{I_{1619}})_{n}$</th>\n",
       "      <th>$(\\frac{ΣS}{S_{1619}})_{n}$</th>\n",
       "      <th>$(\\frac{ΣS}{I_{1720}})_{n}$</th>\n",
       "      <th>$(\\frac{ΣS}{S_{1720}})_{n}$</th>\n",
       "      <th>$(\\frac{I_{1619}}{S_{1619}})_{n}$</th>\n",
       "      <th>$(\\frac{I_{1619}}{I_{1720}})_{n}$</th>\n",
       "      <th>$(\\frac{I_{1619}}{S_{1720}})_{n}$</th>\n",
       "      <th>$(\\frac{S_{1619}}{I_{1720}})_{n}$</th>\n",
       "      <th>$(\\frac{S_{1619}}{S_{1720}})_{n}$</th>\n",
       "      <th>$(\\frac{I_{1720}}{S_{1720}})_{n}$</th>\n",
       "      <th>$(ΣI^{-1})_{n}$</th>\n",
       "      <th>$(ΣI^2)_{n}$</th>\n",
       "      <th>$(ΣI^{-2})_{n}$</th>\n",
       "      <th>$(ΣI^3)_{n}$</th>\n",
       "      <th>...</th>\n",
       "      <th>$(S_{1619}^{-5})_{n}$</th>\n",
       "      <th>$(I_{1720}^{-1})_{n}$</th>\n",
       "      <th>$(I_{1720}^2)_{n}$</th>\n",
       "      <th>$(I_{1720}^{-2})_{n}$</th>\n",
       "      <th>$(I_{1720}^3)_{n}$</th>\n",
       "      <th>$(I_{1720}^{-3})_{n}$</th>\n",
       "      <th>$(I_{1720}^4)_{n}$</th>\n",
       "      <th>$(I_{1720}^{-4})_{n}$</th>\n",
       "      <th>$(I_{1720}^5)_{n}$</th>\n",
       "      <th>$(I_{1720}^{-5})_{n}$</th>\n",
       "      <th>$(S_{1720}^{-1})_{n}$</th>\n",
       "      <th>$(S_{1720}^2)_{n}$</th>\n",
       "      <th>$(S_{1720}^{-2})_{n}$</th>\n",
       "      <th>$(S_{1720}^3)_{n}$</th>\n",
       "      <th>$(S_{1720}^{-3})_{n}$</th>\n",
       "      <th>$(S_{1720}^4)_{n}$</th>\n",
       "      <th>$(S_{1720}^{-4})_{n}$</th>\n",
       "      <th>$(S_{1720}^5)_{n}$</th>\n",
       "      <th>$(S_{1720}^{-5})_{n}$</th>\n",
       "      <th>$(ln|ΣI|)_{n}$</th>\n",
       "      <th>$(ln|ΣS|)_{n}$</th>\n",
       "      <th>$(ln|I_{1619}|)_{n}$</th>\n",
       "      <th>$(ln|S_{1619}|)_{n}$</th>\n",
       "      <th>$(ln|I_{1720}|)_{n}$</th>\n",
       "      <th>$(ln|S_{1720}|)_{n}$</th>\n",
       "    </tr>\n",
       "  </thead>\n",
       "  <tbody>\n",
       "    <tr>\n",
       "      <th>33</th>\n",
       "      <td>3.0341</td>\n",
       "      <td>113.869910</td>\n",
       "      <td>0.595295</td>\n",
       "      <td>11.270802</td>\n",
       "      <td>0.398654</td>\n",
       "      <td>6.282852</td>\n",
       "      <td>0.026645</td>\n",
       "      <td>5.096800</td>\n",
       "      <td>0.269200</td>\n",
       "      <td>7.610866</td>\n",
       "      <td>0.482918</td>\n",
       "      <td>191.283141</td>\n",
       "      <td>10.103089</td>\n",
       "      <td>285.636146</td>\n",
       "      <td>18.123920</td>\n",
       "      <td>0.052817</td>\n",
       "      <td>1.493264</td>\n",
       "      <td>0.094749</td>\n",
       "      <td>28.272161</td>\n",
       "      <td>1.793899</td>\n",
       "      <td>0.063451</td>\n",
       "      <td>0.329587</td>\n",
       "      <td>9.205763</td>\n",
       "      <td>0.108628</td>\n",
       "      <td>27.931205</td>\n",
       "      <td>...</td>\n",
       "      <td>5.498268e-06</td>\n",
       "      <td>2.508443</td>\n",
       "      <td>0.158925</td>\n",
       "      <td>6.292285</td>\n",
       "      <td>0.063356</td>\n",
       "      <td>15.783836</td>\n",
       "      <td>0.025257</td>\n",
       "      <td>39.592848</td>\n",
       "      <td>0.010069</td>\n",
       "      <td>99.316392</td>\n",
       "      <td>0.159163</td>\n",
       "      <td>39.474231</td>\n",
       "      <td>0.025333</td>\n",
       "      <td>248.010759</td>\n",
       "      <td>0.004032</td>\n",
       "      <td>1558.214934</td>\n",
       "      <td>0.000642</td>\n",
       "      <td>9790.034065</td>\n",
       "      <td>0.000102</td>\n",
       "      <td>1.109915</td>\n",
       "      <td>4.735057</td>\n",
       "      <td>-0.518698</td>\n",
       "      <td>2.422215</td>\n",
       "      <td>-0.919662</td>\n",
       "      <td>1.837824</td>\n",
       "    </tr>\n",
       "    <tr>\n",
       "      <th>34</th>\n",
       "      <td>3.6170</td>\n",
       "      <td>50.644492</td>\n",
       "      <td>0.721333</td>\n",
       "      <td>14.056768</td>\n",
       "      <td>0.389348</td>\n",
       "      <td>0.853271</td>\n",
       "      <td>0.071419</td>\n",
       "      <td>5.014327</td>\n",
       "      <td>0.257314</td>\n",
       "      <td>9.289882</td>\n",
       "      <td>4.238981</td>\n",
       "      <td>70.209583</td>\n",
       "      <td>3.602855</td>\n",
       "      <td>130.075028</td>\n",
       "      <td>59.353337</td>\n",
       "      <td>0.051316</td>\n",
       "      <td>1.852668</td>\n",
       "      <td>0.845374</td>\n",
       "      <td>36.103323</td>\n",
       "      <td>16.473975</td>\n",
       "      <td>0.456301</td>\n",
       "      <td>0.276472</td>\n",
       "      <td>13.082689</td>\n",
       "      <td>0.076437</td>\n",
       "      <td>47.320086</td>\n",
       "      <td>...</td>\n",
       "      <td>1.822102e-06</td>\n",
       "      <td>2.568394</td>\n",
       "      <td>0.151592</td>\n",
       "      <td>6.596650</td>\n",
       "      <td>0.059022</td>\n",
       "      <td>16.942798</td>\n",
       "      <td>0.022980</td>\n",
       "      <td>43.515788</td>\n",
       "      <td>0.008947</td>\n",
       "      <td>111.765704</td>\n",
       "      <td>1.171960</td>\n",
       "      <td>0.728072</td>\n",
       "      <td>1.373491</td>\n",
       "      <td>0.621243</td>\n",
       "      <td>1.609677</td>\n",
       "      <td>0.530088</td>\n",
       "      <td>1.886478</td>\n",
       "      <td>0.452309</td>\n",
       "      <td>2.210877</td>\n",
       "      <td>1.285645</td>\n",
       "      <td>3.924830</td>\n",
       "      <td>-0.326654</td>\n",
       "      <td>2.643104</td>\n",
       "      <td>-0.943281</td>\n",
       "      <td>-0.158678</td>\n",
       "    </tr>\n",
       "    <tr>\n",
       "      <th>35</th>\n",
       "      <td>3.3151</td>\n",
       "      <td>50.546298</td>\n",
       "      <td>1.000000</td>\n",
       "      <td>17.465536</td>\n",
       "      <td>0.485792</td>\n",
       "      <td>1.261205</td>\n",
       "      <td>0.065585</td>\n",
       "      <td>3.315100</td>\n",
       "      <td>0.189808</td>\n",
       "      <td>6.824116</td>\n",
       "      <td>2.628518</td>\n",
       "      <td>50.546298</td>\n",
       "      <td>2.894059</td>\n",
       "      <td>104.049291</td>\n",
       "      <td>40.077785</td>\n",
       "      <td>0.057256</td>\n",
       "      <td>2.058495</td>\n",
       "      <td>0.792893</td>\n",
       "      <td>35.952715</td>\n",
       "      <td>13.848294</td>\n",
       "      <td>0.385181</td>\n",
       "      <td>0.301650</td>\n",
       "      <td>10.989888</td>\n",
       "      <td>0.090993</td>\n",
       "      <td>36.432578</td>\n",
       "      <td>...</td>\n",
       "      <td>6.153049e-07</td>\n",
       "      <td>2.058495</td>\n",
       "      <td>0.235994</td>\n",
       "      <td>4.237401</td>\n",
       "      <td>0.114644</td>\n",
       "      <td>8.722668</td>\n",
       "      <td>0.055693</td>\n",
       "      <td>17.955566</td>\n",
       "      <td>0.027055</td>\n",
       "      <td>36.961439</td>\n",
       "      <td>0.792893</td>\n",
       "      <td>1.590638</td>\n",
       "      <td>0.628679</td>\n",
       "      <td>2.006120</td>\n",
       "      <td>0.498475</td>\n",
       "      <td>2.530128</td>\n",
       "      <td>0.395237</td>\n",
       "      <td>3.191010</td>\n",
       "      <td>0.313380</td>\n",
       "      <td>1.198488</td>\n",
       "      <td>3.922890</td>\n",
       "      <td>0.000000</td>\n",
       "      <td>2.860230</td>\n",
       "      <td>-0.721975</td>\n",
       "      <td>0.232068</td>\n",
       "    </tr>\n",
       "  </tbody>\n",
       "</table>\n",
       "<p>3 rows × 81 columns</p>\n",
       "</div>"
      ],
      "text/plain": [
       "    $(ΣI)_{n}$  $(ΣS)_{n}$  $I_{1619, n}$  $S_{1619, n}$  $I_{1720, n}$  \\\n",
       "33      3.0341  113.869910       0.595295      11.270802       0.398654   \n",
       "34      3.6170   50.644492       0.721333      14.056768       0.389348   \n",
       "35      3.3151   50.546298       1.000000      17.465536       0.485792   \n",
       "\n",
       "    $S_{1720, n}$  $(\\frac{ΣI}{ΣS})_{n}$  $(\\frac{ΣI}{I_{1619}})_{n}$  \\\n",
       "33       6.282852               0.026645                     5.096800   \n",
       "34       0.853271               0.071419                     5.014327   \n",
       "35       1.261205               0.065585                     3.315100   \n",
       "\n",
       "    $(\\frac{ΣI}{S_{1619}})_{n}$  $(\\frac{ΣI}{I_{1720}})_{n}$  \\\n",
       "33                     0.269200                     7.610866   \n",
       "34                     0.257314                     9.289882   \n",
       "35                     0.189808                     6.824116   \n",
       "\n",
       "    $(\\frac{ΣI}{S_{1720}})_{n}$  $(\\frac{ΣS}{I_{1619}})_{n}$  \\\n",
       "33                     0.482918                   191.283141   \n",
       "34                     4.238981                    70.209583   \n",
       "35                     2.628518                    50.546298   \n",
       "\n",
       "    $(\\frac{ΣS}{S_{1619}})_{n}$  $(\\frac{ΣS}{I_{1720}})_{n}$  \\\n",
       "33                    10.103089                   285.636146   \n",
       "34                     3.602855                   130.075028   \n",
       "35                     2.894059                   104.049291   \n",
       "\n",
       "    $(\\frac{ΣS}{S_{1720}})_{n}$  $(\\frac{I_{1619}}{S_{1619}})_{n}$  \\\n",
       "33                    18.123920                           0.052817   \n",
       "34                    59.353337                           0.051316   \n",
       "35                    40.077785                           0.057256   \n",
       "\n",
       "    $(\\frac{I_{1619}}{I_{1720}})_{n}$  $(\\frac{I_{1619}}{S_{1720}})_{n}$  \\\n",
       "33                           1.493264                           0.094749   \n",
       "34                           1.852668                           0.845374   \n",
       "35                           2.058495                           0.792893   \n",
       "\n",
       "    $(\\frac{S_{1619}}{I_{1720}})_{n}$  $(\\frac{S_{1619}}{S_{1720}})_{n}$  \\\n",
       "33                          28.272161                           1.793899   \n",
       "34                          36.103323                          16.473975   \n",
       "35                          35.952715                          13.848294   \n",
       "\n",
       "    $(\\frac{I_{1720}}{S_{1720}})_{n}$  $(ΣI^{-1})_{n}$  $(ΣI^2)_{n}$  \\\n",
       "33                           0.063451         0.329587      9.205763   \n",
       "34                           0.456301         0.276472     13.082689   \n",
       "35                           0.385181         0.301650     10.989888   \n",
       "\n",
       "    $(ΣI^{-2})_{n}$  $(ΣI^3)_{n}$  ...  $(S_{1619}^{-5})_{n}$  \\\n",
       "33         0.108628     27.931205  ...           5.498268e-06   \n",
       "34         0.076437     47.320086  ...           1.822102e-06   \n",
       "35         0.090993     36.432578  ...           6.153049e-07   \n",
       "\n",
       "    $(I_{1720}^{-1})_{n}$  $(I_{1720}^2)_{n}$  $(I_{1720}^{-2})_{n}$  \\\n",
       "33               2.508443            0.158925               6.292285   \n",
       "34               2.568394            0.151592               6.596650   \n",
       "35               2.058495            0.235994               4.237401   \n",
       "\n",
       "    $(I_{1720}^3)_{n}$  $(I_{1720}^{-3})_{n}$  $(I_{1720}^4)_{n}$  \\\n",
       "33            0.063356              15.783836            0.025257   \n",
       "34            0.059022              16.942798            0.022980   \n",
       "35            0.114644               8.722668            0.055693   \n",
       "\n",
       "    $(I_{1720}^{-4})_{n}$  $(I_{1720}^5)_{n}$  $(I_{1720}^{-5})_{n}$  \\\n",
       "33              39.592848            0.010069              99.316392   \n",
       "34              43.515788            0.008947             111.765704   \n",
       "35              17.955566            0.027055              36.961439   \n",
       "\n",
       "    $(S_{1720}^{-1})_{n}$  $(S_{1720}^2)_{n}$  $(S_{1720}^{-2})_{n}$  \\\n",
       "33               0.159163           39.474231               0.025333   \n",
       "34               1.171960            0.728072               1.373491   \n",
       "35               0.792893            1.590638               0.628679   \n",
       "\n",
       "    $(S_{1720}^3)_{n}$  $(S_{1720}^{-3})_{n}$  $(S_{1720}^4)_{n}$  \\\n",
       "33          248.010759               0.004032         1558.214934   \n",
       "34            0.621243               1.609677            0.530088   \n",
       "35            2.006120               0.498475            2.530128   \n",
       "\n",
       "    $(S_{1720}^{-4})_{n}$  $(S_{1720}^5)_{n}$  $(S_{1720}^{-5})_{n}$  \\\n",
       "33               0.000642         9790.034065               0.000102   \n",
       "34               1.886478            0.452309               2.210877   \n",
       "35               0.395237            3.191010               0.313380   \n",
       "\n",
       "    $(ln|ΣI|)_{n}$  $(ln|ΣS|)_{n}$  $(ln|I_{1619}|)_{n}$  \\\n",
       "33        1.109915        4.735057             -0.518698   \n",
       "34        1.285645        3.924830             -0.326654   \n",
       "35        1.198488        3.922890              0.000000   \n",
       "\n",
       "    $(ln|S_{1619}|)_{n}$  $(ln|I_{1720}|)_{n}$  $(ln|S_{1720}|)_{n}$  \n",
       "33              2.422215             -0.919662              1.837824  \n",
       "34              2.643104             -0.943281             -0.158678  \n",
       "35              2.860230             -0.721975              0.232068  \n",
       "\n",
       "[3 rows x 81 columns]"
      ]
     },
     "execution_count": 134,
     "metadata": {},
     "output_type": "execute_result"
    }
   ],
   "source": [
    "data_test = pd.read_csv(path_to_ftir_test_data, index_col=0)\n",
    "\n",
    "# data_test.index = data.index.astype(str)\n",
    "\n",
    "print(data_test.shape)\n",
    "data_test.head(3)"
   ]
  },
  {
   "cell_type": "markdown",
   "id": "84334638-e2fa-474e-b17d-d1f8cc703c69",
   "metadata": {},
   "source": [
    "## Samples description"
   ]
  },
  {
   "cell_type": "code",
   "execution_count": 135,
   "id": "e174cc33-3c88-4fa1-bf46-931a229619fd",
   "metadata": {},
   "outputs": [],
   "source": [
    "path_to_samples_description = './../data/preprocessed_data/ftir_description.csv'"
   ]
  },
  {
   "cell_type": "code",
   "execution_count": 136,
   "id": "d02c93d3-2da9-4751-88b0-0e37ec92d374",
   "metadata": {},
   "outputs": [
    {
     "name": "stdout",
     "output_type": "stream",
     "text": [
      "(29, 4)\n"
     ]
    },
    {
     "data": {
      "text/html": [
       "<div>\n",
       "<style scoped>\n",
       "    .dataframe tbody tr th:only-of-type {\n",
       "        vertical-align: middle;\n",
       "    }\n",
       "\n",
       "    .dataframe tbody tr th {\n",
       "        vertical-align: top;\n",
       "    }\n",
       "\n",
       "    .dataframe thead th {\n",
       "        text-align: right;\n",
       "    }\n",
       "</style>\n",
       "<table border=\"1\" class=\"dataframe\">\n",
       "  <thead>\n",
       "    <tr style=\"text-align: right;\">\n",
       "      <th></th>\n",
       "      <th>Description</th>\n",
       "      <th>Type</th>\n",
       "      <th>Class</th>\n",
       "      <th>Label</th>\n",
       "    </tr>\n",
       "  </thead>\n",
       "  <tbody>\n",
       "    <tr>\n",
       "      <th>1</th>\n",
       "      <td>MFGO, разб. 1:20</td>\n",
       "      <td>$GO$</td>\n",
       "      <td>1</td>\n",
       "      <td>Train</td>\n",
       "    </tr>\n",
       "    <tr>\n",
       "      <th>2</th>\n",
       "      <td>HGO, 0.0116 г в 25 мл H2O</td>\n",
       "      <td>$GO$</td>\n",
       "      <td>1</td>\n",
       "      <td>Train</td>\n",
       "    </tr>\n",
       "    <tr>\n",
       "      <th>3</th>\n",
       "      <td>GO, RusGraphene, 2 г в 1000 мл H2O</td>\n",
       "      <td>$GO$</td>\n",
       "      <td>1</td>\n",
       "      <td>Train</td>\n",
       "    </tr>\n",
       "  </tbody>\n",
       "</table>\n",
       "</div>"
      ],
      "text/plain": [
       "                          Description  Type  Class  Label\n",
       "1                    MFGO, разб. 1:20  $GO$      1  Train\n",
       "2           HGO, 0.0116 г в 25 мл H2O  $GO$      1  Train\n",
       "3  GO, RusGraphene, 2 г в 1000 мл H2O  $GO$      1  Train"
      ]
     },
     "execution_count": 136,
     "metadata": {},
     "output_type": "execute_result"
    }
   ],
   "source": [
    "samples_description = pd.read_csv(path_to_samples_description, index_col=0)\n",
    "\n",
    "# samples_description.index = samples_description.index.astype(str)\n",
    "\n",
    "print(samples_description.shape)\n",
    "samples_description.head(3)"
   ]
  },
  {
   "cell_type": "markdown",
   "id": "bc9e7a02-87ac-4df7-8fbc-296eac14a26c",
   "metadata": {},
   "source": [
    "# Dataset preparation"
   ]
  },
  {
   "cell_type": "markdown",
   "id": "a3f20ac4-7e10-44d8-9e07-c1f8aadcd188",
   "metadata": {},
   "source": [
    "## Correction of column `Type`"
   ]
  },
  {
   "cell_type": "code",
   "execution_count": 234,
   "id": "9fe09f84-524c-4fd4-a671-fb3af72510fd",
   "metadata": {},
   "outputs": [
    {
     "name": "stdout",
     "output_type": "stream",
     "text": [
      "(29, 4)\n"
     ]
    },
    {
     "data": {
      "text/html": [
       "<div>\n",
       "<style scoped>\n",
       "    .dataframe tbody tr th:only-of-type {\n",
       "        vertical-align: middle;\n",
       "    }\n",
       "\n",
       "    .dataframe tbody tr th {\n",
       "        vertical-align: top;\n",
       "    }\n",
       "\n",
       "    .dataframe thead th {\n",
       "        text-align: right;\n",
       "    }\n",
       "</style>\n",
       "<table border=\"1\" class=\"dataframe\">\n",
       "  <thead>\n",
       "    <tr style=\"text-align: right;\">\n",
       "      <th></th>\n",
       "      <th>Description</th>\n",
       "      <th>Type</th>\n",
       "      <th>Class</th>\n",
       "      <th>Label</th>\n",
       "    </tr>\n",
       "  </thead>\n",
       "  <tbody>\n",
       "    <tr>\n",
       "      <th>1</th>\n",
       "      <td>MFGO, разб. 1:20</td>\n",
       "      <td>$ОГ$</td>\n",
       "      <td>1</td>\n",
       "      <td>Train</td>\n",
       "    </tr>\n",
       "    <tr>\n",
       "      <th>2</th>\n",
       "      <td>HGO, 0.0116 г в 25 мл H2O</td>\n",
       "      <td>$ОГ$</td>\n",
       "      <td>1</td>\n",
       "      <td>Train</td>\n",
       "    </tr>\n",
       "    <tr>\n",
       "      <th>3</th>\n",
       "      <td>GO, RusGraphene, 2 г в 1000 мл H2O</td>\n",
       "      <td>$ОГ$</td>\n",
       "      <td>1</td>\n",
       "      <td>Train</td>\n",
       "    </tr>\n",
       "  </tbody>\n",
       "</table>\n",
       "</div>"
      ],
      "text/plain": [
       "                          Description  Type  Class  Label\n",
       "1                    MFGO, разб. 1:20  $ОГ$      1  Train\n",
       "2           HGO, 0.0116 г в 25 мл H2O  $ОГ$      1  Train\n",
       "3  GO, RusGraphene, 2 г в 1000 мл H2O  $ОГ$      1  Train"
      ]
     },
     "execution_count": 234,
     "metadata": {},
     "output_type": "execute_result"
    }
   ],
   "source": [
    "type_dict = {\n",
    "    '$rGO$': '$вОГ$',\n",
    "    '$GO$': '$ОГ$',\n",
    "    '$GO_{d}$': '$ОГ_{диализ}$',\n",
    "}\n",
    "\n",
    "samples_description['Type'] = samples_description['Type'].apply(lambda x: type_dict[x])\n",
    "\n",
    "print(samples_description.shape)\n",
    "samples_description.head(3)"
   ]
  },
  {
   "cell_type": "markdown",
   "id": "6e05f728-abf2-4c14-ab88-f8eee5e03d60",
   "metadata": {},
   "source": [
    "## Merging data"
   ]
  },
  {
   "cell_type": "code",
   "execution_count": 235,
   "id": "eb39f0a2-76c0-4c0a-a83b-43bfaf0ba5b2",
   "metadata": {},
   "outputs": [],
   "source": [
    "model_factors = [\n",
    "    r'$(\\frac{S_{1619}}{I_{1720}})_{n}$',\n",
    "    r'$(ln|I_{1720}|)_{n}$'\n",
    "]"
   ]
  },
  {
   "cell_type": "code",
   "execution_count": 236,
   "id": "7f7d1202-d5a9-471f-b4ff-bee4a1935ee5",
   "metadata": {},
   "outputs": [
    {
     "name": "stdout",
     "output_type": "stream",
     "text": [
      "(29, 2)\n"
     ]
    },
    {
     "data": {
      "text/html": [
       "<div>\n",
       "<style scoped>\n",
       "    .dataframe tbody tr th:only-of-type {\n",
       "        vertical-align: middle;\n",
       "    }\n",
       "\n",
       "    .dataframe tbody tr th {\n",
       "        vertical-align: top;\n",
       "    }\n",
       "\n",
       "    .dataframe thead th {\n",
       "        text-align: right;\n",
       "    }\n",
       "</style>\n",
       "<table border=\"1\" class=\"dataframe\">\n",
       "  <thead>\n",
       "    <tr style=\"text-align: right;\">\n",
       "      <th></th>\n",
       "      <th>$(\\frac{S_{1619}}{I_{1720}})_{n}$</th>\n",
       "      <th>$(ln|I_{1720}|)_{n}$</th>\n",
       "    </tr>\n",
       "  </thead>\n",
       "  <tbody>\n",
       "    <tr>\n",
       "      <th>1</th>\n",
       "      <td>5.603765</td>\n",
       "      <td>-0.409461</td>\n",
       "    </tr>\n",
       "    <tr>\n",
       "      <th>2</th>\n",
       "      <td>25.058291</td>\n",
       "      <td>-0.730206</td>\n",
       "    </tr>\n",
       "    <tr>\n",
       "      <th>3</th>\n",
       "      <td>24.243337</td>\n",
       "      <td>-1.035352</td>\n",
       "    </tr>\n",
       "  </tbody>\n",
       "</table>\n",
       "</div>"
      ],
      "text/plain": [
       "   $(\\frac{S_{1619}}{I_{1720}})_{n}$  $(ln|I_{1720}|)_{n}$\n",
       "1                           5.603765             -0.409461\n",
       "2                          25.058291             -0.730206\n",
       "3                          24.243337             -1.035352"
      ]
     },
     "execution_count": 236,
     "metadata": {},
     "output_type": "execute_result"
    }
   ],
   "source": [
    "model_factors_df = pd.concat([data_train, data_test], axis=0)[model_factors]\n",
    "\n",
    "print(model_factors_df.shape)\n",
    "model_factors_df.head(3)"
   ]
  },
  {
   "cell_type": "code",
   "execution_count": 237,
   "id": "f05a59c6-ad64-47eb-8e5b-03712d7d1941",
   "metadata": {},
   "outputs": [
    {
     "name": "stdout",
     "output_type": "stream",
     "text": [
      "(29, 6)\n"
     ]
    },
    {
     "data": {
      "text/html": [
       "<div>\n",
       "<style scoped>\n",
       "    .dataframe tbody tr th:only-of-type {\n",
       "        vertical-align: middle;\n",
       "    }\n",
       "\n",
       "    .dataframe tbody tr th {\n",
       "        vertical-align: top;\n",
       "    }\n",
       "\n",
       "    .dataframe thead th {\n",
       "        text-align: right;\n",
       "    }\n",
       "</style>\n",
       "<table border=\"1\" class=\"dataframe\">\n",
       "  <thead>\n",
       "    <tr style=\"text-align: right;\">\n",
       "      <th></th>\n",
       "      <th>$(\\frac{S_{1619}}{I_{1720}})_{n}$</th>\n",
       "      <th>$(ln|I_{1720}|)_{n}$</th>\n",
       "      <th>Description</th>\n",
       "      <th>Type</th>\n",
       "      <th>Class</th>\n",
       "      <th>Label</th>\n",
       "    </tr>\n",
       "  </thead>\n",
       "  <tbody>\n",
       "    <tr>\n",
       "      <th>1</th>\n",
       "      <td>5.603765</td>\n",
       "      <td>-0.409461</td>\n",
       "      <td>MFGO, разб. 1:20</td>\n",
       "      <td>$ОГ$</td>\n",
       "      <td>1</td>\n",
       "      <td>Train</td>\n",
       "    </tr>\n",
       "    <tr>\n",
       "      <th>2</th>\n",
       "      <td>25.058291</td>\n",
       "      <td>-0.730206</td>\n",
       "      <td>HGO, 0.0116 г в 25 мл H2O</td>\n",
       "      <td>$ОГ$</td>\n",
       "      <td>1</td>\n",
       "      <td>Train</td>\n",
       "    </tr>\n",
       "    <tr>\n",
       "      <th>3</th>\n",
       "      <td>24.243337</td>\n",
       "      <td>-1.035352</td>\n",
       "      <td>GO, RusGraphene, 2 г в 1000 мл H2O</td>\n",
       "      <td>$ОГ$</td>\n",
       "      <td>1</td>\n",
       "      <td>Train</td>\n",
       "    </tr>\n",
       "  </tbody>\n",
       "</table>\n",
       "</div>"
      ],
      "text/plain": [
       "   $(\\frac{S_{1619}}{I_{1720}})_{n}$  $(ln|I_{1720}|)_{n}$  \\\n",
       "1                           5.603765             -0.409461   \n",
       "2                          25.058291             -0.730206   \n",
       "3                          24.243337             -1.035352   \n",
       "\n",
       "                          Description  Type  Class  Label  \n",
       "1                    MFGO, разб. 1:20  $ОГ$      1  Train  \n",
       "2           HGO, 0.0116 г в 25 мл H2O  $ОГ$      1  Train  \n",
       "3  GO, RusGraphene, 2 г в 1000 мл H2O  $ОГ$      1  Train  "
      ]
     },
     "execution_count": 237,
     "metadata": {},
     "output_type": "execute_result"
    }
   ],
   "source": [
    "data = (\n",
    "    model_factors_df\n",
    "    .merge(\n",
    "        right=samples_description,\n",
    "        how='inner',\n",
    "        left_index=True,\n",
    "        right_index=True\n",
    "    )\n",
    ")\n",
    "\n",
    "print(data.shape)\n",
    "data.head(3)"
   ]
  },
  {
   "cell_type": "markdown",
   "id": "efa775ce-5708-45bf-95b0-0f9ae7f59923",
   "metadata": {},
   "source": [
    "## Splitting data to *train/test*"
   ]
  },
  {
   "cell_type": "markdown",
   "id": "7ca1b9c1-f45e-4d77-bd5f-68ed85ddf9f8",
   "metadata": {},
   "source": [
    "### `Train`"
   ]
  },
  {
   "cell_type": "code",
   "execution_count": 238,
   "id": "def2b04a-d160-41a5-9662-fb5210e095a8",
   "metadata": {},
   "outputs": [
    {
     "name": "stdout",
     "output_type": "stream",
     "text": [
      "(25, 6)\n"
     ]
    },
    {
     "data": {
      "text/html": [
       "<div>\n",
       "<style scoped>\n",
       "    .dataframe tbody tr th:only-of-type {\n",
       "        vertical-align: middle;\n",
       "    }\n",
       "\n",
       "    .dataframe tbody tr th {\n",
       "        vertical-align: top;\n",
       "    }\n",
       "\n",
       "    .dataframe thead th {\n",
       "        text-align: right;\n",
       "    }\n",
       "</style>\n",
       "<table border=\"1\" class=\"dataframe\">\n",
       "  <thead>\n",
       "    <tr style=\"text-align: right;\">\n",
       "      <th></th>\n",
       "      <th>$(\\frac{S_{1619}}{I_{1720}})_{n}$</th>\n",
       "      <th>$(ln|I_{1720}|)_{n}$</th>\n",
       "      <th>Description</th>\n",
       "      <th>Type</th>\n",
       "      <th>Class</th>\n",
       "      <th>Label</th>\n",
       "    </tr>\n",
       "  </thead>\n",
       "  <tbody>\n",
       "    <tr>\n",
       "      <th>1</th>\n",
       "      <td>5.603765</td>\n",
       "      <td>-0.409461</td>\n",
       "      <td>MFGO, разб. 1:20</td>\n",
       "      <td>$ОГ$</td>\n",
       "      <td>1</td>\n",
       "      <td>Train</td>\n",
       "    </tr>\n",
       "    <tr>\n",
       "      <th>2</th>\n",
       "      <td>25.058291</td>\n",
       "      <td>-0.730206</td>\n",
       "      <td>HGO, 0.0116 г в 25 мл H2O</td>\n",
       "      <td>$ОГ$</td>\n",
       "      <td>1</td>\n",
       "      <td>Train</td>\n",
       "    </tr>\n",
       "    <tr>\n",
       "      <th>3</th>\n",
       "      <td>24.243337</td>\n",
       "      <td>-1.035352</td>\n",
       "      <td>GO, RusGraphene, 2 г в 1000 мл H2O</td>\n",
       "      <td>$ОГ$</td>\n",
       "      <td>1</td>\n",
       "      <td>Train</td>\n",
       "    </tr>\n",
       "  </tbody>\n",
       "</table>\n",
       "</div>"
      ],
      "text/plain": [
       "   $(\\frac{S_{1619}}{I_{1720}})_{n}$  $(ln|I_{1720}|)_{n}$  \\\n",
       "1                           5.603765             -0.409461   \n",
       "2                          25.058291             -0.730206   \n",
       "3                          24.243337             -1.035352   \n",
       "\n",
       "                          Description  Type  Class  Label  \n",
       "1                    MFGO, разб. 1:20  $ОГ$      1  Train  \n",
       "2           HGO, 0.0116 г в 25 мл H2O  $ОГ$      1  Train  \n",
       "3  GO, RusGraphene, 2 г в 1000 мл H2O  $ОГ$      1  Train  "
      ]
     },
     "execution_count": 238,
     "metadata": {},
     "output_type": "execute_result"
    }
   ],
   "source": [
    "data_train = data.loc[data['Label'] == 'Train']\n",
    "\n",
    "print(data_train.shape)\n",
    "data_train.head(3)"
   ]
  },
  {
   "cell_type": "code",
   "execution_count": 239,
   "id": "69ecab49-9a22-49c8-a598-d5eac1423524",
   "metadata": {},
   "outputs": [
    {
     "name": "stdout",
     "output_type": "stream",
     "text": [
      "(25, 2)\n"
     ]
    },
    {
     "data": {
      "text/html": [
       "<div>\n",
       "<style scoped>\n",
       "    .dataframe tbody tr th:only-of-type {\n",
       "        vertical-align: middle;\n",
       "    }\n",
       "\n",
       "    .dataframe tbody tr th {\n",
       "        vertical-align: top;\n",
       "    }\n",
       "\n",
       "    .dataframe thead th {\n",
       "        text-align: right;\n",
       "    }\n",
       "</style>\n",
       "<table border=\"1\" class=\"dataframe\">\n",
       "  <thead>\n",
       "    <tr style=\"text-align: right;\">\n",
       "      <th></th>\n",
       "      <th>$(\\frac{S_{1619}}{I_{1720}})_{n}$</th>\n",
       "      <th>$(ln|I_{1720}|)_{n}$</th>\n",
       "    </tr>\n",
       "  </thead>\n",
       "  <tbody>\n",
       "    <tr>\n",
       "      <th>1</th>\n",
       "      <td>5.603765</td>\n",
       "      <td>-0.409461</td>\n",
       "    </tr>\n",
       "    <tr>\n",
       "      <th>2</th>\n",
       "      <td>25.058291</td>\n",
       "      <td>-0.730206</td>\n",
       "    </tr>\n",
       "    <tr>\n",
       "      <th>3</th>\n",
       "      <td>24.243337</td>\n",
       "      <td>-1.035352</td>\n",
       "    </tr>\n",
       "  </tbody>\n",
       "</table>\n",
       "</div>"
      ],
      "text/plain": [
       "   $(\\frac{S_{1619}}{I_{1720}})_{n}$  $(ln|I_{1720}|)_{n}$\n",
       "1                           5.603765             -0.409461\n",
       "2                          25.058291             -0.730206\n",
       "3                          24.243337             -1.035352"
      ]
     },
     "execution_count": 239,
     "metadata": {},
     "output_type": "execute_result"
    }
   ],
   "source": [
    "X_train = data_train[model_factors]\n",
    "y_train = data_train['Class']\n",
    "\n",
    "print(X_train.shape)\n",
    "X_train.head(3)"
   ]
  },
  {
   "cell_type": "markdown",
   "id": "81ac0601-0546-4d38-818a-595476fd897c",
   "metadata": {},
   "source": [
    "### `Test`"
   ]
  },
  {
   "cell_type": "code",
   "execution_count": 240,
   "id": "f7299bcc-3c33-4f40-a630-0c8462940a48",
   "metadata": {},
   "outputs": [
    {
     "name": "stdout",
     "output_type": "stream",
     "text": [
      "(4, 6)\n"
     ]
    },
    {
     "data": {
      "text/html": [
       "<div>\n",
       "<style scoped>\n",
       "    .dataframe tbody tr th:only-of-type {\n",
       "        vertical-align: middle;\n",
       "    }\n",
       "\n",
       "    .dataframe tbody tr th {\n",
       "        vertical-align: top;\n",
       "    }\n",
       "\n",
       "    .dataframe thead th {\n",
       "        text-align: right;\n",
       "    }\n",
       "</style>\n",
       "<table border=\"1\" class=\"dataframe\">\n",
       "  <thead>\n",
       "    <tr style=\"text-align: right;\">\n",
       "      <th></th>\n",
       "      <th>$(\\frac{S_{1619}}{I_{1720}})_{n}$</th>\n",
       "      <th>$(ln|I_{1720}|)_{n}$</th>\n",
       "      <th>Description</th>\n",
       "      <th>Type</th>\n",
       "      <th>Class</th>\n",
       "      <th>Label</th>\n",
       "    </tr>\n",
       "  </thead>\n",
       "  <tbody>\n",
       "    <tr>\n",
       "      <th>33</th>\n",
       "      <td>28.272161</td>\n",
       "      <td>-0.919662</td>\n",
       "      <td>GO, RusGraphene</td>\n",
       "      <td>$ОГ$</td>\n",
       "      <td>1</td>\n",
       "      <td>Test</td>\n",
       "    </tr>\n",
       "    <tr>\n",
       "      <th>34</th>\n",
       "      <td>36.103323</td>\n",
       "      <td>-0.943281</td>\n",
       "      <td>Образец GO после диализа (1/2)</td>\n",
       "      <td>$ОГ_{диализ}$</td>\n",
       "      <td>2</td>\n",
       "      <td>Test</td>\n",
       "    </tr>\n",
       "    <tr>\n",
       "      <th>35</th>\n",
       "      <td>35.952715</td>\n",
       "      <td>-0.721975</td>\n",
       "      <td>Образец GO после диализа, RusGraphene</td>\n",
       "      <td>$ОГ_{диализ}$</td>\n",
       "      <td>2</td>\n",
       "      <td>Test</td>\n",
       "    </tr>\n",
       "  </tbody>\n",
       "</table>\n",
       "</div>"
      ],
      "text/plain": [
       "    $(\\frac{S_{1619}}{I_{1720}})_{n}$  $(ln|I_{1720}|)_{n}$  \\\n",
       "33                          28.272161             -0.919662   \n",
       "34                          36.103323             -0.943281   \n",
       "35                          35.952715             -0.721975   \n",
       "\n",
       "                              Description           Type  Class Label  \n",
       "33                        GO, RusGraphene           $ОГ$      1  Test  \n",
       "34         Образец GO после диализа (1/2)  $ОГ_{диализ}$      2  Test  \n",
       "35  Образец GO после диализа, RusGraphene  $ОГ_{диализ}$      2  Test  "
      ]
     },
     "execution_count": 240,
     "metadata": {},
     "output_type": "execute_result"
    }
   ],
   "source": [
    "data_test = data.loc[data['Label'] == 'Test']\n",
    "\n",
    "print(data_test.shape)\n",
    "data_test.head(3)"
   ]
  },
  {
   "cell_type": "code",
   "execution_count": 241,
   "id": "f4ae63cd-3309-4be9-adba-a80e8ff92617",
   "metadata": {},
   "outputs": [
    {
     "name": "stdout",
     "output_type": "stream",
     "text": [
      "(4, 2)\n"
     ]
    },
    {
     "data": {
      "text/html": [
       "<div>\n",
       "<style scoped>\n",
       "    .dataframe tbody tr th:only-of-type {\n",
       "        vertical-align: middle;\n",
       "    }\n",
       "\n",
       "    .dataframe tbody tr th {\n",
       "        vertical-align: top;\n",
       "    }\n",
       "\n",
       "    .dataframe thead th {\n",
       "        text-align: right;\n",
       "    }\n",
       "</style>\n",
       "<table border=\"1\" class=\"dataframe\">\n",
       "  <thead>\n",
       "    <tr style=\"text-align: right;\">\n",
       "      <th></th>\n",
       "      <th>$(\\frac{S_{1619}}{I_{1720}})_{n}$</th>\n",
       "      <th>$(ln|I_{1720}|)_{n}$</th>\n",
       "    </tr>\n",
       "  </thead>\n",
       "  <tbody>\n",
       "    <tr>\n",
       "      <th>33</th>\n",
       "      <td>28.272161</td>\n",
       "      <td>-0.919662</td>\n",
       "    </tr>\n",
       "    <tr>\n",
       "      <th>34</th>\n",
       "      <td>36.103323</td>\n",
       "      <td>-0.943281</td>\n",
       "    </tr>\n",
       "    <tr>\n",
       "      <th>35</th>\n",
       "      <td>35.952715</td>\n",
       "      <td>-0.721975</td>\n",
       "    </tr>\n",
       "  </tbody>\n",
       "</table>\n",
       "</div>"
      ],
      "text/plain": [
       "    $(\\frac{S_{1619}}{I_{1720}})_{n}$  $(ln|I_{1720}|)_{n}$\n",
       "33                          28.272161             -0.919662\n",
       "34                          36.103323             -0.943281\n",
       "35                          35.952715             -0.721975"
      ]
     },
     "execution_count": 241,
     "metadata": {},
     "output_type": "execute_result"
    }
   ],
   "source": [
    "X_test = data_test[model_factors]\n",
    "y_test = data_test['Class']\n",
    "\n",
    "print(X_test.shape)\n",
    "X_test.head(3)"
   ]
  },
  {
   "cell_type": "markdown",
   "id": "52765b26-375a-41fd-b049-2d7b58f76bae",
   "metadata": {},
   "source": [
    "# Modeling"
   ]
  },
  {
   "cell_type": "markdown",
   "id": "03afc6c5-b7d9-4293-8b2f-24a850930647",
   "metadata": {},
   "source": [
    "## *Logistic Regression*"
   ]
  },
  {
   "cell_type": "markdown",
   "id": "7674499e-eaa7-463e-863a-f2a962d7e214",
   "metadata": {},
   "source": [
    "### Fitting model and metrics calculation"
   ]
  },
  {
   "cell_type": "markdown",
   "id": "ab5d9096-a92b-4251-a169-4d1aac2cd358",
   "metadata": {},
   "source": [
    "*Fittting model*"
   ]
  },
  {
   "cell_type": "code",
   "execution_count": 242,
   "id": "ef3ff180-e465-478b-89cc-ba9ba38b86d1",
   "metadata": {},
   "outputs": [],
   "source": [
    "estimator = LogisticRegression(\n",
    "    penalty='l2',\n",
    "    C=1.0,\n",
    "    solver='lbfgs',\n",
    "    max_iter=1000\n",
    ")"
   ]
  },
  {
   "cell_type": "code",
   "execution_count": 243,
   "id": "bc5299ce-a6b0-4ba2-98f3-8118dd7e2b06",
   "metadata": {},
   "outputs": [
    {
     "data": {
      "text/html": [
       "<style>#sk-container-id-6 {color: black;}#sk-container-id-6 pre{padding: 0;}#sk-container-id-6 div.sk-toggleable {background-color: white;}#sk-container-id-6 label.sk-toggleable__label {cursor: pointer;display: block;width: 100%;margin-bottom: 0;padding: 0.3em;box-sizing: border-box;text-align: center;}#sk-container-id-6 label.sk-toggleable__label-arrow:before {content: \"▸\";float: left;margin-right: 0.25em;color: #696969;}#sk-container-id-6 label.sk-toggleable__label-arrow:hover:before {color: black;}#sk-container-id-6 div.sk-estimator:hover label.sk-toggleable__label-arrow:before {color: black;}#sk-container-id-6 div.sk-toggleable__content {max-height: 0;max-width: 0;overflow: hidden;text-align: left;background-color: #f0f8ff;}#sk-container-id-6 div.sk-toggleable__content pre {margin: 0.2em;color: black;border-radius: 0.25em;background-color: #f0f8ff;}#sk-container-id-6 input.sk-toggleable__control:checked~div.sk-toggleable__content {max-height: 200px;max-width: 100%;overflow: auto;}#sk-container-id-6 input.sk-toggleable__control:checked~label.sk-toggleable__label-arrow:before {content: \"▾\";}#sk-container-id-6 div.sk-estimator input.sk-toggleable__control:checked~label.sk-toggleable__label {background-color: #d4ebff;}#sk-container-id-6 div.sk-label input.sk-toggleable__control:checked~label.sk-toggleable__label {background-color: #d4ebff;}#sk-container-id-6 input.sk-hidden--visually {border: 0;clip: rect(1px 1px 1px 1px);clip: rect(1px, 1px, 1px, 1px);height: 1px;margin: -1px;overflow: hidden;padding: 0;position: absolute;width: 1px;}#sk-container-id-6 div.sk-estimator {font-family: monospace;background-color: #f0f8ff;border: 1px dotted black;border-radius: 0.25em;box-sizing: border-box;margin-bottom: 0.5em;}#sk-container-id-6 div.sk-estimator:hover {background-color: #d4ebff;}#sk-container-id-6 div.sk-parallel-item::after {content: \"\";width: 100%;border-bottom: 1px solid gray;flex-grow: 1;}#sk-container-id-6 div.sk-label:hover label.sk-toggleable__label {background-color: #d4ebff;}#sk-container-id-6 div.sk-serial::before {content: \"\";position: absolute;border-left: 1px solid gray;box-sizing: border-box;top: 0;bottom: 0;left: 50%;z-index: 0;}#sk-container-id-6 div.sk-serial {display: flex;flex-direction: column;align-items: center;background-color: white;padding-right: 0.2em;padding-left: 0.2em;position: relative;}#sk-container-id-6 div.sk-item {position: relative;z-index: 1;}#sk-container-id-6 div.sk-parallel {display: flex;align-items: stretch;justify-content: center;background-color: white;position: relative;}#sk-container-id-6 div.sk-item::before, #sk-container-id-6 div.sk-parallel-item::before {content: \"\";position: absolute;border-left: 1px solid gray;box-sizing: border-box;top: 0;bottom: 0;left: 50%;z-index: -1;}#sk-container-id-6 div.sk-parallel-item {display: flex;flex-direction: column;z-index: 1;position: relative;background-color: white;}#sk-container-id-6 div.sk-parallel-item:first-child::after {align-self: flex-end;width: 50%;}#sk-container-id-6 div.sk-parallel-item:last-child::after {align-self: flex-start;width: 50%;}#sk-container-id-6 div.sk-parallel-item:only-child::after {width: 0;}#sk-container-id-6 div.sk-dashed-wrapped {border: 1px dashed gray;margin: 0 0.4em 0.5em 0.4em;box-sizing: border-box;padding-bottom: 0.4em;background-color: white;}#sk-container-id-6 div.sk-label label {font-family: monospace;font-weight: bold;display: inline-block;line-height: 1.2em;}#sk-container-id-6 div.sk-label-container {text-align: center;}#sk-container-id-6 div.sk-container {/* jupyter's `normalize.less` sets `[hidden] { display: none; }` but bootstrap.min.css set `[hidden] { display: none !important; }` so we also need the `!important` here to be able to override the default hidden behavior on the sphinx rendered scikit-learn.org. See: https://github.com/scikit-learn/scikit-learn/issues/21755 */display: inline-block !important;position: relative;}#sk-container-id-6 div.sk-text-repr-fallback {display: none;}</style><div id=\"sk-container-id-6\" class=\"sk-top-container\"><div class=\"sk-text-repr-fallback\"><pre>LogisticRegression(max_iter=1000)</pre><b>In a Jupyter environment, please rerun this cell to show the HTML representation or trust the notebook. <br />On GitHub, the HTML representation is unable to render, please try loading this page with nbviewer.org.</b></div><div class=\"sk-container\" hidden><div class=\"sk-item\"><div class=\"sk-estimator sk-toggleable\"><input class=\"sk-toggleable__control sk-hidden--visually\" id=\"sk-estimator-id-6\" type=\"checkbox\" checked><label for=\"sk-estimator-id-6\" class=\"sk-toggleable__label sk-toggleable__label-arrow\">LogisticRegression</label><div class=\"sk-toggleable__content\"><pre>LogisticRegression(max_iter=1000)</pre></div></div></div></div></div>"
      ],
      "text/plain": [
       "LogisticRegression(max_iter=1000)"
      ]
     },
     "execution_count": 243,
     "metadata": {},
     "output_type": "execute_result"
    }
   ],
   "source": [
    "estimator.fit(X_train, y_train)"
   ]
  },
  {
   "cell_type": "markdown",
   "id": "1a83ecaa-5acf-4f6b-92ef-5b973363c704",
   "metadata": {},
   "source": [
    "*`ROC-AUC` values on `train` part of data set*"
   ]
  },
  {
   "cell_type": "code",
   "execution_count": 244,
   "id": "be019abf-9300-49e9-84b3-ddcc6acba5eb",
   "metadata": {},
   "outputs": [],
   "source": [
    "# Train\n",
    "metric_value_train_ovr = roc_auc_score(\n",
    "    y_true=y_train,\n",
    "    y_score=estimator.predict_proba(X_train),\n",
    "    multi_class='ovr' # one-vs-rest\n",
    ")\n",
    "\n",
    "metric_value_train_ovo = roc_auc_score(\n",
    "    y_true=y_train,\n",
    "    y_score=estimator.predict_proba(X_train),\n",
    "    multi_class='ovo' # one-vs-one\n",
    ")\n",
    "\n",
    "# Test\n",
    "metric_value_test_ovr = roc_auc_score(\n",
    "    y_true=y_test,\n",
    "    y_score=estimator.predict_proba(X_test),\n",
    "    multi_class='ovr' # one-vs-rest\n",
    ")\n",
    "\n",
    "metric_value_test_ovo = roc_auc_score(\n",
    "    y_true=y_test,\n",
    "    y_score=estimator.predict_proba(X_test),\n",
    "    multi_class='ovo' # one-vs-one\n",
    ")"
   ]
  },
  {
   "cell_type": "code",
   "execution_count": 245,
   "id": "c5f4f598-5fa4-470f-83ab-6725a83e6124",
   "metadata": {},
   "outputs": [
    {
     "name": "stdout",
     "output_type": "stream",
     "text": [
      "ROC-AUC values\n",
      "(*) Train (OVO): 1.0\n",
      "(*) Train (OVR): 1.0\n",
      "(*) Test (OVO): 1.0\n",
      "(*) Test (OVR): 1.0\n"
     ]
    }
   ],
   "source": [
    "print(\n",
    "    f\"ROC-AUC values\",\n",
    "    f\"(*) Train (OVO): {metric_value_train_ovr}\",\n",
    "    f\"(*) Train (OVR): {metric_value_train_ovo}\",\n",
    "    f\"(*) Test (OVO): {metric_value_test_ovr}\",\n",
    "    f\"(*) Test (OVR): {metric_value_test_ovo}\",\n",
    "    sep=\"\\n\"\n",
    ")"
   ]
  },
  {
   "cell_type": "markdown",
   "id": "07da3912-a0ee-4733-b3f7-dbeaebe8b4df",
   "metadata": {},
   "source": [
    "### Selection of regularization coefficient `C`"
   ]
  },
  {
   "cell_type": "code",
   "execution_count": 246,
   "id": "e0c7f769-d826-4325-8ef9-9d8031aed283",
   "metadata": {},
   "outputs": [],
   "source": [
    "metric_values_lst = []\n",
    "C_values_lst = np.logspace(-4, 4, 250)"
   ]
  },
  {
   "cell_type": "code",
   "execution_count": 247,
   "id": "62921ea9-78c7-43f1-bebe-212848380a20",
   "metadata": {},
   "outputs": [
    {
     "name": "stderr",
     "output_type": "stream",
     "text": [
      "100%|████████████████████████████████████████| 250/250 [00:01<00:00, 132.30it/s]\n"
     ]
    }
   ],
   "source": [
    "for C in tqdm(C_values_lst):\n",
    "    tmp_metric_values_lst = []\n",
    "\n",
    "    cv = StratifiedKFold(\n",
    "        n_splits=3,\n",
    "        shuffle=True,\n",
    "        random_state=42\n",
    "    )\n",
    "    subsamples_generator = cv.split(X_train, y_train)\n",
    "    \n",
    "    for train_idx, test_idx in subsamples_generator:\n",
    "        # Splitting_data\n",
    "        X_train_cv = X_train.iloc[train_idx]\n",
    "        y_train_cv = y_train.iloc[train_idx]\n",
    "\n",
    "        X_test_cv = X_train.iloc[test_idx]\n",
    "        y_test_cv = y_train.iloc[test_idx]\n",
    "\n",
    "        # Fitting LR with fixed value of C\n",
    "        estimator_cv = LogisticRegression(\n",
    "            penalty='l2',\n",
    "            C=C,\n",
    "            solver='liblinear',\n",
    "            max_iter=1000\n",
    "        )\n",
    "        estimator_cv.fit(X_test_cv, y_test_cv)\n",
    "\n",
    "        # Calculation pf predict_proba\n",
    "        y_pred_proba_cv = estimator_cv.predict_proba(X_test_cv)\n",
    "\n",
    "        # ROC-AUC calculation\n",
    "        metric_value_test_cv = roc_auc_score(\n",
    "            y_true=y_test_cv,\n",
    "            y_score=y_pred_proba_cv,\n",
    "            multi_class='ovr' # one-vs-rest\n",
    "        )\n",
    "\n",
    "        tmp_metric_values_lst.append(metric_value_test_cv)\n",
    "        \n",
    "    # Mean metric value for current C value\n",
    "    tmp_mean_metric = np.mean(tmp_metric_values_lst)\n",
    "    metric_values_lst.append(tmp_mean_metric)"
   ]
  },
  {
   "cell_type": "code",
   "execution_count": 248,
   "id": "08595eea-9bea-4a16-a2be-46b906286f46",
   "metadata": {},
   "outputs": [
    {
     "name": "stdout",
     "output_type": "stream",
     "text": [
      "(250, 2)\n"
     ]
    },
    {
     "data": {
      "text/html": [
       "<div>\n",
       "<style scoped>\n",
       "    .dataframe tbody tr th:only-of-type {\n",
       "        vertical-align: middle;\n",
       "    }\n",
       "\n",
       "    .dataframe tbody tr th {\n",
       "        vertical-align: top;\n",
       "    }\n",
       "\n",
       "    .dataframe thead th {\n",
       "        text-align: right;\n",
       "    }\n",
       "</style>\n",
       "<table border=\"1\" class=\"dataframe\">\n",
       "  <thead>\n",
       "    <tr style=\"text-align: right;\">\n",
       "      <th></th>\n",
       "      <th>c</th>\n",
       "      <th>metric</th>\n",
       "    </tr>\n",
       "  </thead>\n",
       "  <tbody>\n",
       "    <tr>\n",
       "      <th>0</th>\n",
       "      <td>0.000100</td>\n",
       "      <td>0.728439</td>\n",
       "    </tr>\n",
       "    <tr>\n",
       "      <th>1</th>\n",
       "      <td>0.000108</td>\n",
       "      <td>0.728439</td>\n",
       "    </tr>\n",
       "    <tr>\n",
       "      <th>2</th>\n",
       "      <td>0.000116</td>\n",
       "      <td>0.728439</td>\n",
       "    </tr>\n",
       "  </tbody>\n",
       "</table>\n",
       "</div>"
      ],
      "text/plain": [
       "          c    metric\n",
       "0  0.000100  0.728439\n",
       "1  0.000108  0.728439\n",
       "2  0.000116  0.728439"
      ]
     },
     "execution_count": 248,
     "metadata": {},
     "output_type": "execute_result"
    }
   ],
   "source": [
    "c_metric_df = pd.DataFrame({\n",
    "    'c': C_values_lst,\n",
    "    'metric': metric_values_lst\n",
    "})\n",
    "\n",
    "print(c_metric_df.shape)\n",
    "c_metric_df.head(3)"
   ]
  },
  {
   "cell_type": "code",
   "execution_count": 250,
   "id": "93c2a47a-785d-44e5-9c62-69de8e80523d",
   "metadata": {},
   "outputs": [
    {
     "data": {
      "image/png": "[encoded data removed]",
      "text/plain": [
       "<Figure size 1600x600 with 1 Axes>"
      ]
     },
     "metadata": {},
     "output_type": "display_data"
    }
   ],
   "source": [
    "sns.set_theme()\n",
    "\n",
    "fig = plt.figure(figsize=(16, 6))\n",
    "ax = fig.gca()\n",
    "\n",
    "sns.lineplot(\n",
    "    data=c_metric_df,\n",
    "    x='c',\n",
    "    y='metric',\n",
    "    color='teal',\n",
    "    ax=ax\n",
    ")\n",
    "\n",
    "ax.set_xlabel('Inverse of the Regularization Strength ($C$)', fontsize=14)\n",
    "ax.set_ylabel('$ROC-AUC$', fontsize=12)\n",
    "\n",
    "ax.set_xscale('log')\n",
    "\n",
    "plt.tight_layout()\n",
    "\n",
    "# plt.savefig(f'{path_to_save}/c_optimization_curve.png', dpi=600)\n",
    "\n",
    "plt.show()"
   ]
  },
  {
   "cell_type": "code",
   "execution_count": 251,
   "id": "05990946-e437-44b9-89f2-dadbb8ac6897",
   "metadata": {},
   "outputs": [
    {
     "name": "stdout",
     "output_type": "stream",
     "text": [
      "Optimal value of C: 2.174449858709829\n"
     ]
    }
   ],
   "source": [
    "c_opt_index = c_metric_df['metric'].idxmax()\n",
    "c_opt = c_metric_df.loc[c_opt_index, 'c']\n",
    "\n",
    "print(f\"Optimal value of C: {c_opt}\")"
   ]
  },
  {
   "cell_type": "markdown",
   "id": "20aa6d22-2cc4-423b-81cc-7f03ff9bad81",
   "metadata": {},
   "source": [
    "### Training the final model and calculation of predictions"
   ]
  },
  {
   "cell_type": "code",
   "execution_count": 252,
   "id": "2cdcf46e-3ef9-4571-a401-2c4ca564e1dc",
   "metadata": {},
   "outputs": [],
   "source": [
    "estimator = LogisticRegression(\n",
    "    penalty='l2',\n",
    "    C=c_opt,\n",
    "    solver='lbfgs',\n",
    "    max_iter=1000\n",
    ")"
   ]
  },
  {
   "cell_type": "code",
   "execution_count": 253,
   "id": "16b62ebe-63dd-48cf-bc2e-5f8cc7a1c1a3",
   "metadata": {},
   "outputs": [
    {
     "data": {
      "text/html": [
       "<style>#sk-container-id-7 {color: black;}#sk-container-id-7 pre{padding: 0;}#sk-container-id-7 div.sk-toggleable {background-color: white;}#sk-container-id-7 label.sk-toggleable__label {cursor: pointer;display: block;width: 100%;margin-bottom: 0;padding: 0.3em;box-sizing: border-box;text-align: center;}#sk-container-id-7 label.sk-toggleable__label-arrow:before {content: \"▸\";float: left;margin-right: 0.25em;color: #696969;}#sk-container-id-7 label.sk-toggleable__label-arrow:hover:before {color: black;}#sk-container-id-7 div.sk-estimator:hover label.sk-toggleable__label-arrow:before {color: black;}#sk-container-id-7 div.sk-toggleable__content {max-height: 0;max-width: 0;overflow: hidden;text-align: left;background-color: #f0f8ff;}#sk-container-id-7 div.sk-toggleable__content pre {margin: 0.2em;color: black;border-radius: 0.25em;background-color: #f0f8ff;}#sk-container-id-7 input.sk-toggleable__control:checked~div.sk-toggleable__content {max-height: 200px;max-width: 100%;overflow: auto;}#sk-container-id-7 input.sk-toggleable__control:checked~label.sk-toggleable__label-arrow:before {content: \"▾\";}#sk-container-id-7 div.sk-estimator input.sk-toggleable__control:checked~label.sk-toggleable__label {background-color: #d4ebff;}#sk-container-id-7 div.sk-label input.sk-toggleable__control:checked~label.sk-toggleable__label {background-color: #d4ebff;}#sk-container-id-7 input.sk-hidden--visually {border: 0;clip: rect(1px 1px 1px 1px);clip: rect(1px, 1px, 1px, 1px);height: 1px;margin: -1px;overflow: hidden;padding: 0;position: absolute;width: 1px;}#sk-container-id-7 div.sk-estimator {font-family: monospace;background-color: #f0f8ff;border: 1px dotted black;border-radius: 0.25em;box-sizing: border-box;margin-bottom: 0.5em;}#sk-container-id-7 div.sk-estimator:hover {background-color: #d4ebff;}#sk-container-id-7 div.sk-parallel-item::after {content: \"\";width: 100%;border-bottom: 1px solid gray;flex-grow: 1;}#sk-container-id-7 div.sk-label:hover label.sk-toggleable__label {background-color: #d4ebff;}#sk-container-id-7 div.sk-serial::before {content: \"\";position: absolute;border-left: 1px solid gray;box-sizing: border-box;top: 0;bottom: 0;left: 50%;z-index: 0;}#sk-container-id-7 div.sk-serial {display: flex;flex-direction: column;align-items: center;background-color: white;padding-right: 0.2em;padding-left: 0.2em;position: relative;}#sk-container-id-7 div.sk-item {position: relative;z-index: 1;}#sk-container-id-7 div.sk-parallel {display: flex;align-items: stretch;justify-content: center;background-color: white;position: relative;}#sk-container-id-7 div.sk-item::before, #sk-container-id-7 div.sk-parallel-item::before {content: \"\";position: absolute;border-left: 1px solid gray;box-sizing: border-box;top: 0;bottom: 0;left: 50%;z-index: -1;}#sk-container-id-7 div.sk-parallel-item {display: flex;flex-direction: column;z-index: 1;position: relative;background-color: white;}#sk-container-id-7 div.sk-parallel-item:first-child::after {align-self: flex-end;width: 50%;}#sk-container-id-7 div.sk-parallel-item:last-child::after {align-self: flex-start;width: 50%;}#sk-container-id-7 div.sk-parallel-item:only-child::after {width: 0;}#sk-container-id-7 div.sk-dashed-wrapped {border: 1px dashed gray;margin: 0 0.4em 0.5em 0.4em;box-sizing: border-box;padding-bottom: 0.4em;background-color: white;}#sk-container-id-7 div.sk-label label {font-family: monospace;font-weight: bold;display: inline-block;line-height: 1.2em;}#sk-container-id-7 div.sk-label-container {text-align: center;}#sk-container-id-7 div.sk-container {/* jupyter's `normalize.less` sets `[hidden] { display: none; }` but bootstrap.min.css set `[hidden] { display: none !important; }` so we also need the `!important` here to be able to override the default hidden behavior on the sphinx rendered scikit-learn.org. See: https://github.com/scikit-learn/scikit-learn/issues/21755 */display: inline-block !important;position: relative;}#sk-container-id-7 div.sk-text-repr-fallback {display: none;}</style><div id=\"sk-container-id-7\" class=\"sk-top-container\"><div class=\"sk-text-repr-fallback\"><pre>LogisticRegression(C=2.174449858709829, max_iter=1000)</pre><b>In a Jupyter environment, please rerun this cell to show the HTML representation or trust the notebook. <br />On GitHub, the HTML representation is unable to render, please try loading this page with nbviewer.org.</b></div><div class=\"sk-container\" hidden><div class=\"sk-item\"><div class=\"sk-estimator sk-toggleable\"><input class=\"sk-toggleable__control sk-hidden--visually\" id=\"sk-estimator-id-7\" type=\"checkbox\" checked><label for=\"sk-estimator-id-7\" class=\"sk-toggleable__label sk-toggleable__label-arrow\">LogisticRegression</label><div class=\"sk-toggleable__content\"><pre>LogisticRegression(C=2.174449858709829, max_iter=1000)</pre></div></div></div></div></div>"
      ],
      "text/plain": [
       "LogisticRegression(C=2.174449858709829, max_iter=1000)"
      ]
     },
     "execution_count": 253,
     "metadata": {},
     "output_type": "execute_result"
    }
   ],
   "source": [
    "estimator.fit(X_train, y_train)"
   ]
  },
  {
   "cell_type": "code",
   "execution_count": 254,
   "id": "5bd5c759-6dd0-449b-be08-31244cc1df58",
   "metadata": {},
   "outputs": [],
   "source": [
    "y_true = data['Class']\n",
    "y_score = estimator.predict_proba(data[model_factors])"
   ]
  },
  {
   "cell_type": "markdown",
   "id": "885132e6-2b6b-44fa-9aa1-54193f7d8711",
   "metadata": {},
   "source": [
    "### ROC-curve visualization"
   ]
  },
  {
   "cell_type": "markdown",
   "id": "8975f21c-fe70-4ecc-81bd-8e5fba311667",
   "metadata": {},
   "source": [
    "*Binarization of class labels*"
   ]
  },
  {
   "cell_type": "code",
   "execution_count": 255,
   "id": "c574d947-9d87-402d-b348-8c1f8d726dda",
   "metadata": {},
   "outputs": [],
   "source": [
    "n_classes = data['Class'].nunique()\n",
    "y_true_bin = label_binarize(y=y_true, classes=np.arange(n_classes))"
   ]
  },
  {
   "cell_type": "markdown",
   "id": "ae8e6bf7-9b57-4562-81fe-36a32fbf48b2",
   "metadata": {},
   "source": [
    "*ROC-curve plots*"
   ]
  },
  {
   "cell_type": "code",
   "execution_count": 260,
   "id": "fca097d3-9bc2-4e21-a21a-202dc86bf58c",
   "metadata": {},
   "outputs": [],
   "source": [
    "class_type_dict = {\n",
    "    0: '$вОГ$',\n",
    "    1: '$ОГ$',\n",
    "    2: '$ОГ_{диализ}$'\n",
    "}\n",
    "\n",
    "class_colors_dict = {\n",
    "    0: '#d95f02',\n",
    "    1: '#1b9e77',\n",
    "    2: '#7570b3'\n",
    "}"
   ]
  },
  {
   "cell_type": "code",
   "execution_count": 285,
   "id": "e3007266-b5d0-4b90-affd-f14e171cb693",
   "metadata": {},
   "outputs": [
    {
     "data": {
      "image/png": "[encoded data removed]",
      "text/plain": [
       "<Figure size 1600x600 with 3 Axes>"
      ]
     },
     "metadata": {},
     "output_type": "display_data"
    }
   ],
   "source": [
    "sns.set_theme()\n",
    "\n",
    "fig = plt.figure(figsize=(16, 6))\n",
    "\n",
    "nrows = 1\n",
    "ncols = 3\n",
    "\n",
    "for i in range(n_classes):\n",
    "    fpr, tpr, _ = roc_curve(y_true=y_true_bin[:, i], y_score=y_score[:, i])\n",
    "    roc_auc = roc_auc_score(y_true=y_true_bin[:, i], y_score=y_score[:, i])\n",
    "\n",
    "    ax = plt.subplot(nrows, ncols, i+1)\n",
    "    \n",
    "    ax.grid(True)\n",
    "    \n",
    "    ax.plot(\n",
    "        fpr,\n",
    "        tpr,\n",
    "        lw=2,\n",
    "        color=class_colors_dict[i],\n",
    "        linestyle='-',\n",
    "        # marker='o',\n",
    "        label='$ROC-AUC_{ovr}$ = ' + f'${roc_auc:.2f}$'\n",
    "    )\n",
    "\n",
    "    ax.plot(\n",
    "        [0, 1],\n",
    "        [0, 1],\n",
    "        color='gray',\n",
    "        linestyle='--',\n",
    "        lw=1,\n",
    "        # label='$Random$ $classifier$'\n",
    "        label='$Случайный$ $классификатор$'\n",
    "    )\n",
    "\n",
    "    ax.set_title(f'{class_type_dict[i]}', fontsize=16)\n",
    "    \n",
    "    ax.set_xlabel('False Positive Rate', fontsize=14)\n",
    "    ax.set_ylabel('True Positive Rate', fontsize=14)\n",
    "    \n",
    "    ax.legend(loc='lower right', fontsize=12)\n",
    "\n",
    "plt.tight_layout()\n",
    "\n",
    "# plt.savefig(f'{path_to_save}/roc_curves.png', dpi=600)\n",
    "\n",
    "plt.show()"
   ]
  },
  {
   "cell_type": "markdown",
   "id": "1e97daee-395e-473a-834c-51520e2e7862",
   "metadata": {},
   "source": [
    "### "
   ]
  },
  {
   "cell_type": "code",
   "execution_count": null,
   "id": "7f406821-7385-4b0d-a37e-b06c9f548d78",
   "metadata": {},
   "outputs": [],
   "source": []
  },
  {
   "cell_type": "code",
   "execution_count": null,
   "id": "1a3cebdf-d545-45af-98eb-47aa324c1dbe",
   "metadata": {},
   "outputs": [],
   "source": []
  },
  {
   "cell_type": "code",
   "execution_count": null,
   "id": "8fed32aa-cc60-4fbb-8609-87de67549e5d",
   "metadata": {},
   "outputs": [],
   "source": []
  },
  {
   "cell_type": "code",
   "execution_count": null,
   "id": "48704725-9e83-4055-9aac-565ac208be87",
   "metadata": {},
   "outputs": [],
   "source": []
  },
  {
   "cell_type": "code",
   "execution_count": null,
   "id": "05b9cc56-2c05-40b8-b9a5-ef36d1c6bb64",
   "metadata": {},
   "outputs": [],
   "source": []
  },
  {
   "cell_type": "code",
   "execution_count": null,
   "id": "2230ff76-8d6f-46a2-8783-b4ed17d69e5c",
   "metadata": {},
   "outputs": [],
   "source": []
  },
  {
   "cell_type": "code",
   "execution_count": null,
   "id": "00d0afe9-98ad-4b70-b0a4-6ff364c43d5b",
   "metadata": {},
   "outputs": [],
   "source": []
  },
  {
   "cell_type": "code",
   "execution_count": null,
   "id": "543784e2-221c-4a8b-b180-993ac1c1c105",
   "metadata": {},
   "outputs": [],
   "source": []
  },
  {
   "cell_type": "code",
   "execution_count": null,
   "id": "39a03c78-15ee-4956-96ce-8dde292fee22",
   "metadata": {},
   "outputs": [],
   "source": []
  },
  {
   "cell_type": "markdown",
   "id": "0503b75d-0de5-4d71-b37e-ff206182aeb5",
   "metadata": {},
   "source": [
    "## *SVM*"
   ]
  },
  {
   "cell_type": "code",
   "execution_count": 10,
   "id": "9003a47b-f1da-478d-8bd5-d1ca1b3e3f7d",
   "metadata": {},
   "outputs": [],
   "source": [
    "path_to_save = './../../results/ftir/clustering_spectral_features/svm_classifier'"
   ]
  },
  {
   "cell_type": "markdown",
   "id": "ec231ef8-8879-4ee8-9275-d831a43d9d5e",
   "metadata": {},
   "source": [
    "## Visualization of scatter plots"
   ]
  },
  {
   "cell_type": "code",
   "execution_count": 13,
   "id": "97193c44-1f09-482c-b386-6fff28596579",
   "metadata": {},
   "outputs": [
    {
     "name": "stdout",
     "output_type": "stream",
     "text": [
      "ROC-AUC: 1.0\n",
      "Accuracy: 1.0\n"
     ]
    },
    {
     "data": {
      "image/png": "[encoded data removed]",
      "text/plain": [
       "<Figure size 900x500 with 1 Axes>"
      ]
     },
     "metadata": {},
     "output_type": "display_data"
    },
    {
     "name": "stdout",
     "output_type": "stream",
     "text": [
      "ROC-AUC: 1.0\n",
      "Accuracy: 0.96\n"
     ]
    },
    {
     "data": {
      "image/png": "[encoded data removed]",
      "text/plain": [
       "<Figure size 900x500 with 1 Axes>"
      ]
     },
     "metadata": {},
     "output_type": "display_data"
    },
    {
     "name": "stdout",
     "output_type": "stream",
     "text": [
      "ROC-AUC: 1.0\n",
      "Accuracy: 1.0\n"
     ]
    },
    {
     "data": {
      "image/png": "[encoded data removed]",
      "text/plain": [
       "<Figure size 900x500 with 1 Axes>"
      ]
     },
     "metadata": {},
     "output_type": "display_data"
    }
   ],
   "source": [
    "for i in range(top_n):\n",
    "    feature_pair_data = top3_feature_pairs.iloc[i]\n",
    "    \n",
    "    feature_1 = feature_pair_data['Feature_1']\n",
    "    feature_2 = feature_pair_data['Feature_2']\n",
    "\n",
    "    temp_pair = engineered_data[[feature_1, feature_2]]\n",
    "\n",
    "    X = temp_pair.to_numpy()\n",
    "    y = target.copy()\n",
    "\n",
    "    sns.set_theme()\n",
    "    \n",
    "    fig = plt.figure(figsize=(9, 5))\n",
    "    ax = fig.gca()\n",
    "\n",
    "    ax.grid(True)\n",
    "    \n",
    "    clf = LinearSVC(C=100, loss=\"hinge\", random_state=42, dual=\"auto\").fit(X, y)\n",
    "    \n",
    "    decision_function = clf.decision_function(X)\n",
    "\n",
    "    # Metrics Calculation\n",
    "    \n",
    "    print(f\"ROC-AUC: {roc_auc_score(y, clf._predict_proba_lr(X), multi_class='ovr')}\")\n",
    "    print(f\"Accuracy: {accuracy_score(y, clf.predict(X))}\")\n",
    "\n",
    "    # Visualazing results\n",
    "    \n",
    "    support_vector_indices = np.where(np.abs(decision_function) <= 1 + 1e-15)[0]\n",
    "    support_vectors = X[support_vector_indices]\n",
    "    \n",
    "    sns.scatterplot(\n",
    "        data=temp_pair,\n",
    "        x=feature_1,\n",
    "        y=feature_2,\n",
    "        hue=hue,\n",
    "        s=128,\n",
    "        palette='Dark2'\n",
    "    )\n",
    "\n",
    "    ax.scatter(\n",
    "        support_vectors[:, 0],\n",
    "        support_vectors[:, 1],\n",
    "        s=128,\n",
    "        linewidth=1.5,\n",
    "        facecolors=\"none\",\n",
    "        edgecolors=\"k\",\n",
    "    )\n",
    "    \n",
    "    DecisionBoundaryDisplay.from_estimator(\n",
    "        clf,\n",
    "        X,\n",
    "        ax=ax,\n",
    "        grid_resolution=50,\n",
    "        plot_method=\"contour\",\n",
    "        colors=\"black\",\n",
    "        levels=[-1, 0, 1],\n",
    "        alpha=0.5,\n",
    "        linestyles=['--', '--', '--']\n",
    "    )\n",
    "    \n",
    "    ax.set_xlabel(feature_1, fontstyle='normal', fontsize=18)\n",
    "    ax.set_ylabel(feature_2, fontstyle='normal', fontsize=18)\n",
    "    \n",
    "    ax.set_xlim(-0.05, 1.05)\n",
    "    ax.set_ylim(-0.05, 1.05)\n",
    "    \n",
    "    plt.tight_layout()\n",
    "\n",
    "    plt.savefig(path_to_save + f'/scatterplot_svm_top{i}', dpi=600)\n",
    "    \n",
    "    plt.show()"
   ]
  }
 ],
 "metadata": {
  "kernelspec": {
   "display_name": "Python 3 (ipykernel)",
   "language": "python",
   "name": "python3"
  },
  "language_info": {
   "codemirror_mode": {
    "name": "ipython",
    "version": 3
   },
   "file_extension": ".py",
   "mimetype": "text/x-python",
   "name": "python",
   "nbconvert_exporter": "python",
   "pygments_lexer": "ipython3",
   "version": "3.11.9"
  }
 },
 "nbformat": 4,
 "nbformat_minor": 5
}
